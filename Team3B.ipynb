{
 "cells": [
  {
   "cell_type": "code",
   "execution_count": 1,
   "metadata": {},
   "outputs": [],
   "source": [
    "import numpy as np\n",
    "import tensorflow as tf\n",
    "import matplotlib.pyplot as plt\n",
    "from PIL import Image\n",
    "import seaborn as sb\n",
    "\n",
    "from sklearn.preprocessing import StandardScaler\n",
    "from sklearn.preprocessing import LabelEncoder\n",
    "from sklearn.model_selection import train_test_split\n",
    "from sklearn.decomposition import PCA\n",
    "\n",
    "import os\n",
    "import glob\n",
    "from bs4 import BeautifulSoup\n"
   ]
  },
  {
   "cell_type": "markdown",
   "metadata": {},
   "source": [
    "Get the data set"
   ]
  },
  {
   "cell_type": "code",
   "execution_count": 2,
   "metadata": {},
   "outputs": [],
   "source": [
    "curr_directory = os.getcwd()\n",
    "train_img_path = curr_directory + \"\\\\train\\\\\"\n",
    "test_img_path = curr_directory + \"\\\\test\\\\\"\n",
    "files_train = [f for f in glob.glob(train_img_path + \"*.jpg\", recursive = True)]\n",
    "files_test = [f for f in glob.glob(test_img_path + \"*.jpg\", recursive = True)]\n",
    "files_train_xml = [f for f in glob.glob(train_img_path + \"*.xml\", recursive = True)]\n",
    "files_test_xml = [f for f in glob.glob(test_img_path + \"*.xml\", recursive = True)]"
   ]
  },
  {
   "cell_type": "code",
   "execution_count": 3,
   "metadata": {
    "pycharm": {
     "name": "#%%\n"
    }
   },
   "outputs": [
    {
     "name": "stdout",
     "output_type": "stream",
     "text": [
      "[[8, 349, 331, 15], [56, 1419, 1413, 99], [1, 280, 459, 5], [43, 353, 350, 21], [105, 691, 720, 261], [318, 511, 680, 146], [643, 1046, 1396, 364], [14, 300, 270, 44], [113, 700, 583, 258], [144, 411, 470, 136], [158, 1143, 1264, 116], [37, 222, 205, 52], [23, 497, 458, 55], [97, 385, 594, 112], [136, 628, 569, 199], [99, 412, 404, 131], [1, 1551, 913, 1], [167, 201, 346, 29], [125, 221, 302, 58], [51, 350, 414, 3], [25, 297, 275, 42], [43, 234, 220, 67], [176, 708, 907, 17], [1, 716, 800, 63], [3, 439, 773, 40], [553, 868, 1232, 120], [91, 706, 710, 92], [43, 324, 219, 135], [8, 161, 155, 17], [36, 334, 323, 48], [38, 1184, 1017, 189], [196, 666, 575, 317], [18, 210, 315, 22], [202, 314, 470, 37], [144, 257, 337, 55], [39, 474, 445, 55], [204, 596, 624, 154], [21, 315, 319, 27], [34, 424, 575, 62], [10, 569, 748, 22], [54, 624, 960, 72], [133, 595, 725, 115], [15, 291, 255, 87], [68, 306, 541, 1], [46, 217, 288, 40], [43, 250, 229, 68], [1, 435, 463, 72], [45, 261, 252, 53], [87, 868, 694, 265], [41, 177, 327, 40], [349, 784, 861, 227], [146, 533, 650, 6], [1, 810, 651, 132], [290, 815, 939, 111], [139, 514, 939, 125], [57, 459, 615, 239], [234, 343, 416, 132], [97, 326, 366, 62], [19, 708, 719, 1], [344, 394, 640, 76], [35, 598, 787, 25], [46, 514, 770, 59], [291, 342, 588, 55], [78, 793, 961, 176], [95, 404, 406, 128], [287, 1111, 1141, 233], [31, 222, 157, 82], [79, 339, 582, 18], [26, 239, 222, 56], [6, 206, 206, 18], [125, 374, 363, 144], [5, 276, 287, 31], [36, 282, 271, 38], [67, 155, 222, 8], [184, 525, 582, 110], [89, 406, 613, 48], [87, 480, 719, 3], [69, 258, 218, 43], [64, 436, 554, 101], [60, 2568, 2792, 85], [24, 353, 361, 5], [25, 527, 917, 40], [114, 458, 511, 88], [301, 724, 897, 57], [78, 350, 543, 45], [116, 439, 696, 48], [48, 387, 541, 107], [1, 601, 1181, 135], [103, 313, 491, 138], [26, 456, 318, 340], [129, 355, 632, 109], [101, 1168, 1600, 171], [41, 738, 943, 260], [103, 484, 655, 210], [180, 436, 647, 100], [17, 348, 436, 36], [201, 379, 627, 48], [1, 110, 195, 1], [43, 385, 714, 128], [63, 310, 273, 48], [74, 191, 243, 83], [74, 387, 497, 58], [126, 557, 883, 16], [38, 408, 595, 174], [33, 427, 459, 213], [4, 756, 859, 236], [75, 328, 563, 21], [193, 983, 1700, 207], [125, 497, 772, 133], [86, 290, 422, 12], [96, 397, 580, 107], [254, 720, 617, 231], [17, 201, 421, 57], [3, 263, 342, 61], [29, 214, 834, 1], [95, 266, 597, 63], [1, 1514, 1173, 212], [121, 354, 514, 93], [99, 416, 670, 8], [117, 175, 489, 81], [4, 434, 409, 92], [37, 754, 1013, 187], [130, 1800, 1071, 621], [4, 926, 1818, 3], [10, 4515, 2466, 625], [37, 311, 666, 3], [81, 458, 524, 63], [889, 1147, 1461, 147], [11, 657, 599, 43], [27, 319, 521, 72], [54, 360, 534, 156], [68, 751, 1226, 221], [132, 348, 591, 98], [54, 371, 498, 31], [20, 282, 395, 48], [19, 325, 337, 21], [1, 674, 1198, 1], [97, 320, 533, 83], [177, 822, 374, 52], [17, 624, 1590, 1], [84, 155, 403, 43], [1, 1332, 1991, 189], [146, 1080, 1459, 13], [65, 416, 720, 14], [144, 291, 340, 46], [1, 176, 294, 60], [199, 1268, 1916, 1], [822, 1519, 1448, 381], [54, 528, 666, 83], [130, 485, 643, 38], [105, 660, 958, 181], [39, 591, 986, 36], [129, 563, 753, 34], [132, 1172, 1103, 388], [173, 764, 1172, 43], [25, 376, 426, 5], [108, 376, 598, 89], [67, 551, 866, 134], [4, 268, 285, 42], [147, 798, 1173, 48], [51, 284, 303, 25], [10, 657, 777, 39], [73, 619, 618, 148], [73, 966, 950, 164], [27, 233, 333, 4], [154, 455, 690, 223], [77, 590, 674, 133], [29, 416, 400, 61], [79, 282, 596, 32], [52, 149, 275, 5], [1, 676, 532, 171], [159, 336, 520, 45], [24, 235, 253, 11], [23, 265, 272, 33], [24, 398, 600, 1], [4, 398, 366, 71], [140, 688, 965, 61], [11, 306, 291, 5], [58, 358, 465, 1], [87, 415, 603, 127], [68, 1191, 947, 305], [607, 1048, 1498, 133], [75, 465, 531, 96], [78, 249, 257, 79], [399, 565, 916, 81], [22, 165, 176, 20], [165, 291, 377, 86], [45, 212, 368, 2], [26, 295, 300, 28], [76, 439, 759, 58], [1, 250, 224, 1], [92, 636, 605, 124], [708, 598, 1253, 81], [50, 289, 383, 75], [61, 492, 526, 36], [415, 974, 1578, 282], [5, 295, 253, 39], [172, 978, 1440, 181], [151, 474, 544, 72], [12, 386, 342, 54], [92, 522, 546, 66], [244, 600, 919, 128], [390, 800, 815, 391], [102, 1919, 1969, 99], [83, 208, 193, 107], [136, 224, 240, 117], [62, 267, 245, 77], [59, 305, 287, 72], [28, 119, 125, 14], [261, 889, 864, 278], [56, 332, 413, 98], [262, 313, 508, 52], [263, 363, 564, 43], [215, 370, 488, 173], [324, 680, 692, 291], [4, 400, 340, 37], [36, 644, 492, 158], [8, 833, 1273, 21], [77, 631, 466, 57], [38, 299, 345, 1], [2, 299, 203, 94], [71, 220, 258, 18], [175, 1759, 1576, 368], [163, 1130, 1003, 294], [56, 334, 656, 35], [1633, 1968, 3098, 394], [87, 404, 311, 162], [195, 284, 438, 61], [164, 477, 595, 36], [27, 535, 1004, 213], [26, 581, 604, 69], [58, 470, 706, 69], [134, 943, 896, 208], [47, 381, 379, 52], [191, 746, 853, 43], [14, 280, 278, 8], [85, 545, 488, 137], [494, 1066, 1620, 1], [42, 348, 545, 81], [35, 315, 268, 96]]\n"
     ]
    }
   ],
   "source": [
    "def PreProcessXML(files):\n",
    "\n",
    "    data_crop_xml = []\n",
    "    for file in files:\n",
    "        with open(file) as f:\n",
    "            data = f.read()\n",
    "\n",
    "        Bs_data = BeautifulSoup(data, \"xml\")\n",
    "\n",
    "        x_min = min([int(item.get_text()) for item in Bs_data.find_all('xmin')])\n",
    "        x_max = max([int(item.get_text()) for item in Bs_data.find_all('xmax')])\n",
    "        y_min = min([int(item.get_text()) for item in Bs_data.find_all('ymin')])\n",
    "        y_max = max([int(item.get_text()) for item in Bs_data.find_all('ymax')])\n",
    "\n",
    "        x_y_data = [x_min,y_max,x_max,y_min]\n",
    "        data_crop_xml.append(x_y_data)\n",
    "\n",
    "    return data_crop_xml\n",
    "\n",
    "data_train_crop_xml = PreProcessXML(files_train_xml)\n",
    "data_test_crop_xml = PreProcessXML(files_test_xml)\n",
    "print(data_train_crop_xml)"
   ]
  },
  {
   "cell_type": "code",
   "execution_count": 4,
   "metadata": {
    "pycharm": {
     "name": "#%%\n"
    }
   },
   "outputs": [
    {
     "name": "stderr",
     "output_type": "stream",
     "text": [
      "C:\\Users\\manas\\anaconda3\\envs\\pythonProject\\lib\\site-packages\\PIL\\Image.py:975: UserWarning: Palette images with Transparency expressed in bytes should be converted to RGBA images\n",
      "  warnings.warn(\n"
     ]
    }
   ],
   "source": [
    "tiny_image_size_x = 64\n",
    "tiny_image_size_y = 64\n",
    "number_of_labels = 4\n",
    "def PreProcess(files, istrain):\n",
    "    x_res = None\n",
    "    y_res = []\n",
    "\n",
    "    for i in range(0, len(files)):\n",
    "        img_raw = Image.open(files[i])\n",
    "        # width,height = img_raw.size\n",
    "        if istrain :\n",
    "            img_raw = img_raw.crop((data_train_crop_xml[i][0],data_train_crop_xml[i][3],data_train_crop_xml[i][2],data_train_crop_xml[i][1]))\n",
    "        else:\n",
    "            img_raw = img_raw.crop((data_test_crop_xml[i][0],data_test_crop_xml[i][3],data_test_crop_xml[i][2],data_test_crop_xml[i][1]))\n",
    "        img_tiny = img_raw.resize((tiny_image_size_x,tiny_image_size_y))\n",
    "        if img_tiny.mode == 'RGBA' or img_tiny.mode == 'P':\n",
    "            img_tiny = img_tiny.convert('RGB')\n",
    "        if x_res is None:\n",
    "            x_res = img_tiny\n",
    "        else:\n",
    "            x_res = np.concatenate((x_res, img_tiny))\n",
    "        y_res.append(os.path.basename(files[i]).split('_')[0])\n",
    "#        if istrain:\n",
    "#             angle = 90\n",
    "#             inc = 3\n",
    "#             for j in range(inc):\n",
    "#                    new_angle = (j+1)*angle\n",
    "#                    new_img = img_tiny.rotate(new_angle)\n",
    "#                    x_res = np.concatenate((x_res, new_img))\n",
    "#                    y_res.append(os.path.basename(files[i]).split('_')[0])\n",
    "\n",
    "    x_res = x_res.reshape(-1, tiny_image_size_x, tiny_image_size_y, 3)\n",
    "    le = LabelEncoder()\n",
    "    le.fit(y_res)\n",
    "    y_res = le.transform(y_res)\n",
    "    y_res = tf.keras.utils.to_categorical(y_res, number_of_labels)\n",
    "    # print(le.classes_)\n",
    "    # print(y_res)\n",
    "    return x_res , y_res\n",
    "\n",
    "x_train,y_train = PreProcess(files_train,True)\n",
    "x_test,y_test = PreProcess(files_test,False)"
   ]
  },
  {
   "cell_type": "code",
   "execution_count": 5,
   "metadata": {},
   "outputs": [
    {
     "data": {
      "text/plain": [
       "<matplotlib.image.AxesImage at 0x1b5ca606820>"
      ]
     },
     "execution_count": 5,
     "metadata": {},
     "output_type": "execute_result"
    },
    {
     "data": {
      "image/png": "[encoded data removed]",
      "text/plain": [
       "<Figure size 144x144 with 1 Axes>"
      ]
     },
     "metadata": {
      "needs_background": "light"
     },
     "output_type": "display_data"
    }
   ],
   "source": [
    "img2 = Image.fromarray(x_train[1])\n",
    "\n",
    "plt.subplots(figsize=(2,2))\n",
    "plt.imshow(img2)"
   ]
  },
  {
   "cell_type": "code",
   "execution_count": 6,
   "metadata": {},
   "outputs": [],
   "source": [
    "model = tf.keras.Sequential()\n",
    "\n",
    "model.add(tf.keras.layers.Conv2D(filters=16,\n",
    "    kernel_size=(2, 2),\n",
    "    activation='relu',\n",
    "    input_shape=(tiny_image_size_x, tiny_image_size_y, 3)))\n",
    "model.add(tf.keras.layers.MaxPooling2D(pool_size=(2, 2)))\n",
    "model.add(tf.keras.layers.Flatten())\n",
    "model.add(tf.keras.layers.Dense(units=64, activation='relu'))\n",
    "model.add(tf.keras.layers.Dense(units=number_of_labels, activation='softmax'))"
   ]
  },
  {
   "cell_type": "code",
   "execution_count": 7,
   "metadata": {
    "scrolled": true
   },
   "outputs": [],
   "source": [
    "opt = tf.keras.optimizers.Adam(learning_rate=0.0001)\n",
    "model.compile(loss='categorical_crossentropy', optimizer=opt, metrics=['accuracy'])"
   ]
  },
  {
   "cell_type": "markdown",
   "metadata": {},
   "source": [
    "Train our model."
   ]
  },
  {
   "cell_type": "code",
   "execution_count": 8,
   "metadata": {
    "pycharm": {
     "name": "#%%\n"
    }
   },
   "outputs": [
    {
     "name": "stdout",
     "output_type": "stream",
     "text": [
      "Epoch 1/30\n",
      "30/30 [==============================] - 0s 13ms/step - loss: 0.8803 - accuracy: 0.7229\n",
      "Epoch 2/30\n",
      "30/30 [==============================] - 0s 13ms/step - loss: 0.4779 - accuracy: 0.8667\n",
      "Epoch 3/30\n",
      "30/30 [==============================] - 0s 13ms/step - loss: 0.3388 - accuracy: 0.9083\n",
      "Epoch 4/30\n",
      "30/30 [==============================] - 0s 13ms/step - loss: 0.2641 - accuracy: 0.9365\n",
      "Epoch 5/30\n",
      "30/30 [==============================] - 0s 13ms/step - loss: 0.2125 - accuracy: 0.9594\n",
      "Epoch 6/30\n",
      "30/30 [==============================] - 0s 13ms/step - loss: 0.1855 - accuracy: 0.9635\n",
      "Epoch 7/30\n",
      "30/30 [==============================] - 0s 13ms/step - loss: 0.1639 - accuracy: 0.9708\n",
      "Epoch 8/30\n",
      "30/30 [==============================] - 0s 13ms/step - loss: 0.1551 - accuracy: 0.9646\n",
      "Epoch 9/30\n",
      "30/30 [==============================] - 0s 13ms/step - loss: 0.1471 - accuracy: 0.9708\n",
      "Epoch 10/30\n",
      "30/30 [==============================] - 0s 13ms/step - loss: 0.1234 - accuracy: 0.9792\n",
      "Epoch 11/30\n",
      "30/30 [==============================] - 0s 13ms/step - loss: 0.1136 - accuracy: 0.9833\n",
      "Epoch 12/30\n",
      "30/30 [==============================] - 0s 13ms/step - loss: 0.1074 - accuracy: 0.9844\n",
      "Epoch 13/30\n",
      "30/30 [==============================] - 0s 13ms/step - loss: 0.1003 - accuracy: 0.9833\n",
      "Epoch 14/30\n",
      "30/30 [==============================] - 0s 13ms/step - loss: 0.0961 - accuracy: 0.9823\n",
      "Epoch 15/30\n",
      "30/30 [==============================] - 0s 14ms/step - loss: 0.0875 - accuracy: 0.9844\n",
      "Epoch 16/30\n",
      "30/30 [==============================] - 0s 14ms/step - loss: 0.0807 - accuracy: 0.9875\n",
      "Epoch 17/30\n",
      "30/30 [==============================] - 0s 13ms/step - loss: 0.0760 - accuracy: 0.9885\n",
      "Epoch 18/30\n",
      "30/30 [==============================] - 0s 13ms/step - loss: 0.0679 - accuracy: 0.9875\n",
      "Epoch 19/30\n",
      "30/30 [==============================] - 0s 13ms/step - loss: 0.0646 - accuracy: 0.9906\n",
      "Epoch 20/30\n",
      "30/30 [==============================] - 0s 14ms/step - loss: 0.0618 - accuracy: 0.9906\n",
      "Epoch 21/30\n",
      "30/30 [==============================] - 0s 13ms/step - loss: 0.0560 - accuracy: 0.9917\n",
      "Epoch 22/30\n",
      "30/30 [==============================] - 0s 13ms/step - loss: 0.0543 - accuracy: 0.9885\n",
      "Epoch 23/30\n",
      "30/30 [==============================] - 0s 13ms/step - loss: 0.0498 - accuracy: 0.9906\n",
      "Epoch 24/30\n",
      "30/30 [==============================] - 0s 13ms/step - loss: 0.0463 - accuracy: 0.9917\n",
      "Epoch 25/30\n",
      "30/30 [==============================] - 0s 13ms/step - loss: 0.0425 - accuracy: 0.9917\n",
      "Epoch 26/30\n",
      "30/30 [==============================] - 0s 13ms/step - loss: 0.0428 - accuracy: 0.9917\n",
      "Epoch 27/30\n",
      "30/30 [==============================] - 0s 13ms/step - loss: 0.0383 - accuracy: 0.9927\n",
      "Epoch 28/30\n",
      "30/30 [==============================] - 0s 13ms/step - loss: 0.0364 - accuracy: 0.9948\n",
      "Epoch 29/30\n",
      "30/30 [==============================] - 0s 14ms/step - loss: 0.0353 - accuracy: 0.9948\n",
      "Epoch 30/30\n",
      "30/30 [==============================] - 0s 13ms/step - loss: 0.0310 - accuracy: 0.9958\n"
     ]
    }
   ],
   "source": [
    "hist = model.fit(x=x_train/255, y=y_train, epochs=30)"
   ]
  },
  {
   "cell_type": "code",
   "execution_count": 9,
   "metadata": {
    "pycharm": {
     "name": "#%%\n"
    }
   },
   "outputs": [
    {
     "name": "stdout",
     "output_type": "stream",
     "text": [
      "2/2 [==============================] - 0s 2ms/step - loss: 95.8259 - accuracy: 0.7833\n",
      "loss =  95.825927734375\n",
      "accuracy =  0.7833333611488342\n"
     ]
    }
   ],
   "source": [
    "loss, accuracy = model.evaluate(x=x_test, y=y_test)\n",
    "\n",
    "print('loss = ', loss)\n",
    "print('accuracy = ', accuracy)"
   ]
  },
  {
   "cell_type": "code",
   "execution_count": null,
   "metadata": {},
   "outputs": [],
   "source": []
  }
 ],
 "metadata": {
  "interpreter": {
   "hash": "8c4aaadf913e60f2c06022d8c17ff2c7b144de1e1057a3cb7057cc7781dfc3c6"
  },
  "kernelspec": {
   "display_name": "Python 3 (ipykernel)",
   "language": "python",
   "name": "python3"
  },
  "language_info": {
   "codemirror_mode": {
    "name": "ipython",
    "version": 3
   },
   "file_extension": ".py",
   "mimetype": "text/x-python",
   "name": "python",
   "nbconvert_exporter": "python",
   "pygments_lexer": "ipython3",
   "version": "3.8.12"
  }
 },
 "nbformat": 4,
 "nbformat_minor": 2
}